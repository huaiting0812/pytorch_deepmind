{
 "cells": [
  {
   "cell_type": "code",
   "execution_count": 5,
   "metadata": {},
   "outputs": [],
   "source": [
    "from keras.datasets import mnist  \n",
    "from keras.utils import np_utils  \n",
    "import numpy as np"
   ]
  },
  {
   "cell_type": "code",
   "execution_count": 6,
   "metadata": {},
   "outputs": [
    {
     "name": "stdout",
     "output_type": "stream",
     "text": [
      "Downloading data from https://storage.googleapis.com/tensorflow/tf-keras-datasets/mnist.npz\n",
      "11493376/11490434 [==============================] - 1s 0us/step\n",
      "11501568/11490434 [==============================] - 1s 0us/step\n"
     ]
    }
   ],
   "source": [
    "np.random.seed(10)  \n",
    "  \n",
    "# Read MNIST data  \n",
    "(X_Train, y_Train), (X_Test, y_Test) = mnist.load_data()  \n",
    "  \n",
    "# Translation of data  \n",
    "#這裡的1指的是單色如果是RGB為28*28*3\n",
    "X_Train4D = X_Train.reshape(X_Train.shape[0], 28, 28, 1).astype('float32')  \n",
    "X_Test4D = X_Test.reshape(X_Test.shape[0], 28, 28, 1).astype('float32')"
   ]
  },
  {
   "cell_type": "code",
   "execution_count": 8,
   "metadata": {},
   "outputs": [],
   "source": [
    "# Standardize feature data  \n",
    "X_Train4D_norm = X_Train4D / 255  \n",
    "X_Test4D_norm = X_Test4D /255  \n",
    "  \n",
    "# Label Onehot-encoding  \n",
    "y_TrainOneHot = np_utils.to_categorical(y_Train)\n",
    "y_TestOneHot = np_utils.to_categorical(y_Test)"
   ]
  },
  {
   "cell_type": "code",
   "execution_count": 9,
   "metadata": {},
   "outputs": [],
   "source": [
    "from keras.models import Sequential  \n",
    "from keras.layers import Dense,Dropout,Flatten,Conv2D,MaxPool2D \n",
    "#先建立sequential model 在一層層加上去\n",
    "model = Sequential()  \n",
    "# Create CN layer 1  \n",
    "model.add(Conv2D(filters=16,  \n",
    "                 kernel_size=(5,5),  \n",
    "                 padding='same',  \n",
    "                 input_shape=(28,28,1),  \n",
    "                 activation='relu',\n",
    "                 name='conv2d_1')) \n",
    "# Create Max-Pool 1  \n",
    "model.add(MaxPool2D(pool_size=(2,2), name='max_pooling2d_1'))  \n",
    "  \n",
    "# Create CN layer 2  \n",
    "model.add(Conv2D(filters=36,  \n",
    "                 kernel_size=(5,5),  \n",
    "                 padding='same',  \n",
    "                 input_shape=(28,28,1),  \n",
    "                 activation='relu',\n",
    "                 name='conv2d_2'))  \n",
    "  \n",
    "# Create Max-Pool 2  \n",
    "model.add(MaxPool2D(pool_size=(2,2), name='max_pooling2d_2'))  \n",
    "  \n",
    "# Add Dropout layer  \n",
    "model.add(Dropout(0.25, name='dropout_1'))"
   ]
  },
  {
   "cell_type": "code",
   "execution_count": 10,
   "metadata": {},
   "outputs": [],
   "source": [
    "model.add(Flatten(name='flatten_1'))\n",
    "model.add(Dense(128, activation='relu', name='dense_1'))  \n",
    "model.add(Dropout(0.5, name='dropout_2'))\n",
    "model.add(Dense(10, activation='softmax', name='dense_2'))"
   ]
  },
  {
   "cell_type": "code",
   "execution_count": 11,
   "metadata": {},
   "outputs": [
    {
     "name": "stdout",
     "output_type": "stream",
     "text": [
      "Model: \"sequential\"\n",
      "_________________________________________________________________\n",
      "Layer (type)                 Output Shape              Param #   \n",
      "=================================================================\n",
      "conv2d_1 (Conv2D)            (None, 28, 28, 16)        416       \n",
      "_________________________________________________________________\n",
      "max_pooling2d_1 (MaxPooling2 (None, 14, 14, 16)        0         \n",
      "_________________________________________________________________\n",
      "conv2d_2 (Conv2D)            (None, 14, 14, 36)        14436     \n",
      "_________________________________________________________________\n",
      "max_pooling2d_2 (MaxPooling2 (None, 7, 7, 36)          0         \n",
      "_________________________________________________________________\n",
      "dropout_1 (Dropout)          (None, 7, 7, 36)          0         \n",
      "_________________________________________________________________\n",
      "flatten_1 (Flatten)          (None, 1764)              0         \n",
      "_________________________________________________________________\n",
      "dense_1 (Dense)              (None, 128)               225920    \n",
      "_________________________________________________________________\n",
      "dropout_2 (Dropout)          (None, 128)               0         \n",
      "_________________________________________________________________\n",
      "dense_2 (Dense)              (None, 10)                1290      \n",
      "=================================================================\n",
      "Total params: 242,062\n",
      "Trainable params: 242,062\n",
      "Non-trainable params: 0\n",
      "_________________________________________________________________\n",
      "\n"
     ]
    }
   ],
   "source": [
    "model.summary()  \n",
    "print(\"\")  "
   ]
  },
  {
   "cell_type": "code",
   "execution_count": 12,
   "metadata": {},
   "outputs": [
    {
     "name": "stdout",
     "output_type": "stream",
     "text": [
      "Epoch 1/10\n",
      "160/160 [==============================] - 35s 205ms/step - loss: 0.5050 - accuracy: 0.8426 - val_loss: 0.1013 - val_accuracy: 0.9689\n",
      "Epoch 2/10\n",
      "160/160 [==============================] - 32s 201ms/step - loss: 0.1400 - accuracy: 0.9585 - val_loss: 0.0702 - val_accuracy: 0.9785\n",
      "Epoch 3/10\n",
      "160/160 [==============================] - 32s 202ms/step - loss: 0.1018 - accuracy: 0.9694 - val_loss: 0.0530 - val_accuracy: 0.9845\n",
      "Epoch 4/10\n",
      "160/160 [==============================] - 32s 198ms/step - loss: 0.0837 - accuracy: 0.9754 - val_loss: 0.0465 - val_accuracy: 0.9868\n",
      "Epoch 5/10\n",
      "160/160 [==============================] - 34s 211ms/step - loss: 0.0705 - accuracy: 0.9784 - val_loss: 0.0411 - val_accuracy: 0.9881\n",
      "Epoch 6/10\n",
      "160/160 [==============================] - 35s 218ms/step - loss: 0.0598 - accuracy: 0.9818 - val_loss: 0.0425 - val_accuracy: 0.9878\n",
      "Epoch 7/10\n",
      "160/160 [==============================] - 34s 210ms/step - loss: 0.0550 - accuracy: 0.9831 - val_loss: 0.0378 - val_accuracy: 0.9895\n",
      "Epoch 8/10\n",
      "160/160 [==============================] - 36s 224ms/step - loss: 0.0505 - accuracy: 0.9848 - val_loss: 0.0369 - val_accuracy: 0.9893\n",
      "Epoch 9/10\n",
      "160/160 [==============================] - 33s 205ms/step - loss: 0.0456 - accuracy: 0.9864 - val_loss: 0.0364 - val_accuracy: 0.9883\n",
      "Epoch 10/10\n",
      "160/160 [==============================] - 32s 202ms/step - loss: 0.0415 - accuracy: 0.9873 - val_loss: 0.0329 - val_accuracy: 0.9908\n"
     ]
    }
   ],
   "source": [
    "# 定義訓練方式  \n",
    "model.compile(loss='categorical_crossentropy', optimizer='adam', metrics=['accuracy'])  \n",
    "  \n",
    "# 開始訓練  \n",
    "train_history = model.fit(x=X_Train4D_norm,  \n",
    "                          y=y_TrainOneHot, validation_split=0.2,  \n",
    "                          epochs=10, batch_size=300, verbose=1)"
   ]
  },
  {
   "cell_type": "code",
   "execution_count": 15,
   "metadata": {},
   "outputs": [],
   "source": [
    "import matplotlib.pyplot as plt  \n",
    "def plot_image(image):  \n",
    "    fig = plt.gcf()  \n",
    "    fig.set_size_inches(2,2)  \n",
    "    plt.imshow(image, cmap='binary')  \n",
    "    plt.show()  \n",
    "  \n",
    "def plot_images_labels_predict(images, labels, prediction, idx, num=10):  \n",
    "    fig = plt.gcf()  \n",
    "    fig.set_size_inches(12, 14)  \n",
    "    if num > 25: num = 25  \n",
    "    for i in range(0, num):  \n",
    "        ax=plt.subplot(5,5, 1+i)  \n",
    "        ax.imshow(images[idx], cmap='binary')  \n",
    "        title = \"l=\" + str(labels[idx])  \n",
    "        if len(prediction) > 0:  \n",
    "            title = \"l={},p={}\".format(str(labels[idx]), str(prediction[idx]))  \n",
    "        else:  \n",
    "            title = \"l={}\".format(str(labels[idx]))  \n",
    "        ax.set_title(title, fontsize=10)  \n",
    "        ax.set_xticks([]); ax.set_yticks([])  \n",
    "        idx+=1  \n",
    "    plt.show()  \n",
    "  \n",
    "def show_train_history(train_history, train, validation):  \n",
    "    plt.plot(train_history.history[train])  \n",
    "    plt.plot(train_history.history[validation])  \n",
    "    plt.title('Train History')  \n",
    "    plt.ylabel(train)  \n",
    "    plt.xlabel('Epoch')  \n",
    "    plt.legend(['train', 'validation'], loc='upper left')  \n",
    "    plt.show() "
   ]
  },
  {
   "cell_type": "code",
   "execution_count": 1,
   "metadata": {},
   "outputs": [
    {
     "ename": "NameError",
     "evalue": "name 'show_train_history' is not defined",
     "output_type": "error",
     "traceback": [
      "\u001b[1;31m---------------------------------------------------------------------------\u001b[0m",
      "\u001b[1;31mNameError\u001b[0m                                 Traceback (most recent call last)",
      "\u001b[1;32m~\\AppData\\Local\\Temp/ipykernel_11696/222340296.py\u001b[0m in \u001b[0;36m<module>\u001b[1;34m\u001b[0m\n\u001b[1;32m----> 1\u001b[1;33m \u001b[0mshow_train_history\u001b[0m\u001b[1;33m(\u001b[0m\u001b[0mtrain_history\u001b[0m\u001b[1;33m,\u001b[0m \u001b[1;34m'acc'\u001b[0m\u001b[1;33m,\u001b[0m \u001b[1;34m'val_acc'\u001b[0m\u001b[1;33m)\u001b[0m\u001b[1;33m\u001b[0m\u001b[1;33m\u001b[0m\u001b[0m\n\u001b[0m",
      "\u001b[1;31mNameError\u001b[0m: name 'show_train_history' is not defined"
     ]
    }
   ],
   "source": [
    "show_train_history(train_history, 'acc', 'val_acc')"
   ]
  },
  {
   "cell_type": "code",
   "execution_count": 18,
   "metadata": {},
   "outputs": [
    {
     "data": {
      "image/png": "[encoded data removed]",
      "text/plain": [
       "<Figure size 432x288 with 1 Axes>"
      ]
     },
     "metadata": {
      "needs_background": "light"
     },
     "output_type": "display_data"
    }
   ],
   "source": [
    "show_train_history(train_history, 'loss', 'val_loss')"
   ]
  },
  {
   "cell_type": "code",
   "execution_count": 21,
   "metadata": {},
   "outputs": [
    {
     "name": "stdout",
     "output_type": "stream",
     "text": [
      "313/313 [==============================] - 4s 7ms/step - loss: 0.0234 - accuracy: 0.9916\n",
      "\n",
      "\t[Info] Accuracy of testing data = 99.2%\n"
     ]
    }
   ],
   "source": [
    "scores = model.evaluate(X_Test4D_norm, y_TestOneHot)  \n",
    "print()  \n",
    "print(\"\\t[Info] Accuracy of testing data = {:2.1f}%\".format(scores[1]*100.0))"
   ]
  },
  {
   "cell_type": "code",
   "execution_count": 24,
   "metadata": {},
   "outputs": [
    {
     "name": "stdout",
     "output_type": "stream",
     "text": [
      "\t[Info] Making prediction of X_Test4D_norm\n",
      "\n",
      "\t[Info] Show 10 prediction result (From 240):\n",
      "[5 9 8 7 2 3 0 4 4 2]\n",
      "\n"
     ]
    }
   ],
   "source": [
    "print(\"\\t[Info] Making prediction of X_Test4D_norm\")\n",
    "prediction = model.predict(X_Test4D_norm)\n",
    "prediction=np.argmax(prediction,axis=1)\n",
    "# prediction = model.predict_classes(X_Test4D_norm)  # Making prediction and save result to prediction  \n",
    "print()  \n",
    "print(\"\\t[Info] Show 10 prediction result (From 240):\")  \n",
    "print(\"%s\\n\" % (prediction[240:250]))"
   ]
  },
  {
   "cell_type": "code",
   "execution_count": 25,
   "metadata": {},
   "outputs": [
    {
     "data": {
      "image/png": "[encoded data removed]",
      "text/plain": [
       "<Figure size 864x1008 with 10 Axes>"
      ]
     },
     "metadata": {},
     "output_type": "display_data"
    }
   ],
   "source": [
    "plot_images_labels_predict(X_Test, y_Test, prediction, idx=240)"
   ]
  }
 ],
 "metadata": {
  "kernelspec": {
   "display_name": "base",
   "language": "python",
   "name": "python3"
  },
  "language_info": {
   "codemirror_mode": {
    "name": "ipython",
    "version": 3
   },
   "file_extension": ".py",
   "mimetype": "text/x-python",
   "name": "python",
   "nbconvert_exporter": "python",
   "pygments_lexer": "ipython3",
   "version": "3.9.7"
  }
 },
 "nbformat": 4,
 "nbformat_minor": 2
}

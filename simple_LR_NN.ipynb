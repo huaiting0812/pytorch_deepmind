{
 "cells": [
  {
   "cell_type": "markdown",
   "metadata": {},
   "source": [
    "# 用完全連接層估算簡單線性回歸參數"
   ]
  },
  {
   "cell_type": "code",
   "execution_count": 4,
   "metadata": {},
   "outputs": [],
   "source": [
    "import numpy as np\n",
    "import torch"
   ]
  },
  {
   "cell_type": "code",
   "execution_count": 5,
   "metadata": {},
   "outputs": [],
   "source": [
    "# 隨機資料\n",
    "\n",
    "n = 100\n",
    "X = np.linspace(0,50,n)\n",
    "y = np.linspace(0,50,n)\n",
    "\n",
    "#噪音\n",
    "\n",
    "X += np.linspace(-10,10,n)\n",
    "y += np.linspace(-10,10,n)\n",
    "\n"
   ]
  },
  {
   "cell_type": "code",
   "execution_count": 8,
   "metadata": {},
   "outputs": [],
   "source": [
    "# 定義模型\n",
    "# sequential為一系列的層\n",
    "def create_model(input_feature, output_feature):\n",
    "    model = torch.nn.Sequential(\n",
    "        torch.nn.Linear(input_feature, output_feature),\n",
    "        torch.nn.Flatten(0, -1) # 所有維度轉成一維 \n",
    "    )\n",
    "    return model\n",
    "\n"
   ]
  },
  {
   "cell_type": "code",
   "execution_count": 7,
   "metadata": {},
   "outputs": [
    {
     "data": {
      "text/plain": [
       "torch.Size([32, 288])"
      ]
     },
     "execution_count": 7,
     "metadata": {},
     "output_type": "execute_result"
    }
   ],
   "source": [
    "# 測試扁平層(Flatten)\n",
    "input = torch.randn(32, 1, 5, 5)\n",
    "m = torch.nn.Sequential(\n",
    "    torch.nn.Conv2d(1, 32, 5, 1, 1),\n",
    "    torch.nn.Flatten()\n",
    ")\n",
    "output = m(input)\n",
    "output.size()"
   ]
  },
  {
   "cell_type": "code",
   "execution_count": 9,
   "metadata": {},
   "outputs": [],
   "source": [
    "def train(X, y, epochs=2000, lr=1e-6):\n",
    "    model = create_model(1, 1)\n",
    "\n",
    "    # 定義損失函數\n",
    "    loss_fn = torch.nn.MSELoss(reduction='sum') \n",
    "\n",
    "    loss_list, w_list, b_list=[], [], []    \n",
    "    for epoch in range(epochs):   # 執行訓練週期\n",
    "        y_pred = model(X)        # 預測值\n",
    "        \n",
    "        # 計算損失函數值\n",
    "        # print(y_pred.shape, y.shape)\n",
    "        MSE = loss_fn(y_pred, y) \n",
    "        \n",
    "        # 梯度重置：改由model.zero_grad() 取代 w、b 逐一設定。\n",
    "        model.zero_grad()\n",
    "        \n",
    "        # 反向傳導\n",
    "        MSE.backward()  \n",
    "        \n",
    "        # 權重更新：改用 model.parameters 取代 w、b 逐一更新 \n",
    "        with torch.no_grad():\n",
    "            for param in model.parameters():\n",
    "                param -= lr * param.grad\n",
    "        \n",
    "        # 記錄訓練結果\n",
    "        linear_layer = model[0]\n",
    "        if (epoch+1) % 1000 == 0 or epochs < 1000:\n",
    "            w_list.append(linear_layer.weight[:, 0].item())  # w.item()：轉成常數\n",
    "            b_list.append(linear_layer.bias.item())\n",
    "            loss_list.append(MSE.item())\n",
    "        \n",
    "    return w_list, b_list, loss_list"
   ]
  },
  {
   "cell_type": "code",
   "execution_count": 10,
   "metadata": {},
   "outputs": [
    {
     "name": "stdout",
     "output_type": "stream",
     "text": [
      "w=1.0023952722549438, b=-0.09975732117891312\n"
     ]
    }
   ],
   "source": [
    "# 執行訓練\n",
    "X2, y2 = torch.FloatTensor(X.reshape(X.shape[0], 1)), torch.FloatTensor(y)\n",
    "w_list, b_list, loss_list = train(X2, y2)\n",
    "\n",
    "# 取得 w、b 的最佳解\n",
    "print(f'w={w_list[-1]}, b={b_list[-1]}')"
   ]
  },
  {
   "cell_type": "code",
   "execution_count": 16,
   "metadata": {},
   "outputs": [
    {
     "name": "stdout",
     "output_type": "stream",
     "text": [
      "w=nan, b=nan\n"
     ]
    }
   ],
   "source": [
    "# 使用不同學習率及更多的執行週期訓練\n",
    "X2, y2 = torch.FloatTensor(X.reshape(X.shape[0], 1)), torch.FloatTensor(y)\n",
    "w_list, b_list, loss_list = train(X2, y2, epochs=10**5, lr=1e-5)\n",
    "# 取得 w、b 的最佳解\n",
    "print(f'w={w_list[-1]}, b={b_list[-1]}')\n"
   ]
  },
  {
   "cell_type": "code",
   "execution_count": 15,
   "metadata": {},
   "outputs": [
    {
     "data": {
      "text/plain": [
       "100000"
      ]
     },
     "execution_count": 15,
     "metadata": {},
     "output_type": "execute_result"
    }
   ],
   "source": []
  }
 ],
 "metadata": {
  "kernelspec": {
   "display_name": "base",
   "language": "python",
   "name": "python3"
  },
  "language_info": {
   "codemirror_mode": {
    "name": "ipython",
    "version": 3
   },
   "file_extension": ".py",
   "mimetype": "text/x-python",
   "name": "python",
   "nbconvert_exporter": "python",
   "pygments_lexer": "ipython3",
   "version": "3.8.8"
  }
 },
 "nbformat": 4,
 "nbformat_minor": 2
}
